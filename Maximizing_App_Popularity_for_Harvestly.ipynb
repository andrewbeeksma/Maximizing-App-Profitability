{
  "nbformat": 4,
  "nbformat_minor": 0,
  "metadata": {
    "kernelspec": {
      "display_name": "Python 3",
      "language": "python",
      "name": "python3"
    },
    "language_info": {
      "codemirror_mode": {
        "name": "ipython",
        "version": 3
      },
      "file_extension": ".py",
      "mimetype": "text/x-python",
      "name": "python",
      "nbconvert_exporter": "python",
      "pygments_lexer": "ipython3",
      "version": "3.7.6"
    },
    "colab": {
      "name": "Maximizing App Popularity for Harvestly",
      "provenance": [],
      "collapsed_sections": [],
      "include_colab_link": true
    }
  },
  "cells": [
    {
      "cell_type": "markdown",
      "metadata": {
        "id": "view-in-github",
        "colab_type": "text"
      },
      "source": [
        "<a href=\"https://colab.research.google.com/github/andrewbeeksma/Maximizing-App-Profitability/blob/master/Maximizing_App_Popularity_for_Harvestly.ipynb\" target=\"_parent\"><img src=\"https://colab.research.google.com/assets/colab-badge.svg\" alt=\"Open In Colab\"/></a>"
      ]
    },
    {
      "cell_type": "markdown",
      "metadata": {
        "id": "9Ja3no2saFo2",
        "colab_type": "text"
      },
      "source": [
        "# Maximizing App Profitability for Harvestly\n",
        "In this project, I focus on profiling apps into different categories in order to distinguish which apps tend to be the most popular, and subsequently, the most profitable. Using this analysis, I hope to draw accurate conclusions that will inform Harvestly's software engineering practices and maximize our 'chances' at building a successful mobile application. Ensuring that our tech team deeply understands the data on the App Store and on Google Play will enable us to make practical, results-oriented decisions in every stage of the development process."
      ]
    },
    {
      "cell_type": "code",
      "metadata": {
        "id": "oURiysZdaFpF",
        "colab_type": "code",
        "colab": {},
        "outputId": "55322662-033d-4d0f-f613-efac2d180cdd"
      },
      "source": [
        "#Import data from the App Store\n",
        "from csv import reader\n",
        "opened_file1 = open('AppleStore.csv')\n",
        "read_file1 = reader(opened_file1)\n",
        "app_store_data = list(read_file1)\n",
        "\n",
        "#Import data from Google Play\n",
        "opened_file2 = open('googleplaystore.csv')\n",
        "read_file2 = reader(opened_file2)\n",
        "google_play_data = list(read_file2)\n",
        "\n",
        "#Create a function that explores a given dataset, which is expected to be a list of lists\n",
        "#Take the starting and ending indices as arguments, with the option to print rows and columns\n",
        "def explore_data(dataset, start, end, rows_and_columns=False):\n",
        "    #create a subset of the dataset as specified by the arguments\n",
        "    dataset_slice = dataset[start:end]\n",
        "    for row in dataset_slice:\n",
        "        print(row)\n",
        "        print('\\n')\n",
        "    #If rows_and_columns is true, then print the number of rows and columns in the dataset\n",
        "    if rows_and_columns:\n",
        "        print('Number of rows:', len(dataset))\n",
        "        print('Number of columns:', len(dataset[0]))\n",
        "\n",
        "explore_data(app_store_data, 0, 1, True)\n",
        "print('\\n\\n')\n",
        "explore_data(google_play_data, 0, 1, True)"
      ],
      "execution_count": null,
      "outputs": [
        {
          "output_type": "stream",
          "text": [
            "['', 'id', 'track_name', 'size_bytes', 'currency', 'price', 'rating_count_tot', 'rating_count_ver', 'user_rating', 'user_rating_ver', 'ver', 'cont_rating', 'prime_genre', 'sup_devices.num', 'ipadSc_urls.num', 'lang.num', 'vpp_lic']\n",
            "\n",
            "\n",
            "Number of rows: 7198\n",
            "Number of columns: 17\n",
            "\n",
            "\n",
            "\n",
            "['App', 'Category', 'Rating', 'Reviews', 'Size', 'Installs', 'Type', 'Price', 'Content Rating', 'Genres', 'Last Updated', 'Current Ver', 'Android Ver']\n",
            "\n",
            "\n",
            "Number of rows: 10842\n",
            "Number of columns: 13\n"
          ],
          "name": "stdout"
        }
      ]
    },
    {
      "cell_type": "markdown",
      "metadata": {
        "id": "2jAzLAXRaFpt",
        "colab_type": "text"
      },
      "source": [
        "In the code above, I am exploring what sort of data is in the *comma separated values* files, or CSV files. I am currently only exploring the header rows for each file to understand what each column represents and determine which columns will provide meaningful and relevant data for my intended analysis. If you would like to better understand these datasets, you can find information on the App Store [here](https://www.kaggle.com/ramamet4/app-store-apple-data-set-10k-apps) and information on Google Play [here](https://www.kaggle.com/lava18/google-play-store-apps). Note that before beginning my analysis, I must ensure that the data I analyze is accurate and relevant, which means I must first detect inaccurate and duplicate data. Furthermore, in order to apply the results of my analysis to Harvestly's goals, it would be best for me to remove all non-English apps and all apps that aren't free. This process is called *data cleaning*, and it is often said that data analysts spend roughly 80% of their time cleaning data, and the remaining 20% is spent analyzing this data. We will find this to be true for this project."
      ]
    },
    {
      "cell_type": "markdown",
      "metadata": {
        "id": "-wJRxfpNaFpv",
        "colab_type": "text"
      },
      "source": [
        "First, I will clean the data on the Google Play store. In the discussion section where I found the dataset, someone noted that row 10473 was missing a 'category' section, and all of the remaining columns were shifted over. The code below verifies that this row is missing data and ultimately deletes the row from the dataset."
      ]
    },
    {
      "cell_type": "code",
      "metadata": {
        "id": "kacscHyfaFpz",
        "colab_type": "code",
        "colab": {},
        "outputId": "340f4082-047f-4b6e-a982-5f5fd8f0a4c0"
      },
      "source": [
        "explore_data(google_play_data, 10473, 10474)\n",
        "del google_play_data[10473] #delete row with missing data"
      ],
      "execution_count": null,
      "outputs": [
        {
          "output_type": "stream",
          "text": [
            "['Life Made WI-Fi Touchscreen Photo Frame', '1.9', '19', '3.0M', '1,000+', 'Free', '0', 'Everyone', '', 'February 11, 2018', '1.0.19', '4.0 and up']\n",
            "\n",
            "\n"
          ],
          "name": "stdout"
        }
      ]
    },
    {
      "cell_type": "markdown",
      "metadata": {
        "id": "jwnoHjVhaFqS",
        "colab_type": "text"
      },
      "source": [
        "Next, it has come to my attention that there are a number of duplicate rows in the data. The code below verifies this fact by looping over the dataset and printing out the information for each application named 'Instagram'."
      ]
    },
    {
      "cell_type": "code",
      "metadata": {
        "id": "Cch3rOVTaFqV",
        "colab_type": "code",
        "colab": {},
        "outputId": "c1a6591a-1fdb-492b-efc5-8c58ed6e2499"
      },
      "source": [
        "for apps in google_play_data[1:]:\n",
        "    name = apps[0]\n",
        "    if name == 'Instagram':\n",
        "        print(apps)"
      ],
      "execution_count": null,
      "outputs": [
        {
          "output_type": "stream",
          "text": [
            "['Instagram', 'SOCIAL', '4.5', '66577313', 'Varies with device', '1,000,000,000+', 'Free', '0', 'Teen', 'Social', 'July 31, 2018', 'Varies with device', 'Varies with device']\n",
            "['Instagram', 'SOCIAL', '4.5', '66577446', 'Varies with device', '1,000,000,000+', 'Free', '0', 'Teen', 'Social', 'July 31, 2018', 'Varies with device', 'Varies with device']\n",
            "['Instagram', 'SOCIAL', '4.5', '66577313', 'Varies with device', '1,000,000,000+', 'Free', '0', 'Teen', 'Social', 'July 31, 2018', 'Varies with device', 'Varies with device']\n",
            "['Instagram', 'SOCIAL', '4.5', '66509917', 'Varies with device', '1,000,000,000+', 'Free', '0', 'Teen', 'Social', 'July 31, 2018', 'Varies with device', 'Varies with device']\n"
          ],
          "name": "stdout"
        }
      ]
    },
    {
      "cell_type": "markdown",
      "metadata": {
        "id": "1sbPjUPaaFqc",
        "colab_type": "text"
      },
      "source": [
        "Note that the only column that varies in each row is the 4th column, which counts the total number of reviews. As I delete duplicate entries, then, I will only keep the row with the highest number of reviews. This will ensure that the data I am analyzing is the most recent. Now I will find out how many duplicate entries exist in the dataset."
      ]
    },
    {
      "cell_type": "code",
      "metadata": {
        "id": "eONlFubaaFqi",
        "colab_type": "code",
        "colab": {},
        "outputId": "dfe4fa4f-829b-4cca-ad71-5283e7dbc0fb"
      },
      "source": [
        "duplicate_apps = []\n",
        "unique_apps = []\n",
        "\n",
        "for app in google_play_data[1:]:\n",
        "    name = app[0]\n",
        "    if name in unique_apps:\n",
        "        duplicate_apps.append(name)\n",
        "    else:\n",
        "        unique_apps.append(name)\n",
        "\n",
        "print('Number of duplicate entries:', len(duplicate_apps))"
      ],
      "execution_count": null,
      "outputs": [
        {
          "output_type": "stream",
          "text": [
            "Number of duplicate entries: 1181\n"
          ],
          "name": "stdout"
        }
      ]
    },
    {
      "cell_type": "markdown",
      "metadata": {
        "id": "cfNHjDnaaFrC",
        "colab_type": "text"
      },
      "source": [
        "In order to remove all duplicate entries in my dataset, I will create a dictionary where each unique key is the application name and each value is the highest number of reviews for that application. Using this information, I can then create a new dataset with no duplicate entries."
      ]
    },
    {
      "cell_type": "code",
      "metadata": {
        "id": "gKJu59IGaFrD",
        "colab_type": "code",
        "colab": {},
        "outputId": "e7737fd0-3769-49b2-bd65-f9f0b51b82b5"
      },
      "source": [
        "reviews_max = {}\n",
        "for row in google_play_data[1:]:\n",
        "    name = row[0]\n",
        "    n_reviews = float(row[3])\n",
        "    if name in reviews_max and reviews_max[name] < n_reviews:\n",
        "        reviews_max[name] = n_reviews\n",
        "    if name not in reviews_max:\n",
        "        reviews_max[name] = n_reviews\n",
        "print('Number of unique entries:', len(reviews_max))"
      ],
      "execution_count": null,
      "outputs": [
        {
          "output_type": "stream",
          "text": [
            "Number of unique entries: 9659\n"
          ],
          "name": "stdout"
        }
      ]
    },
    {
      "cell_type": "markdown",
      "metadata": {
        "id": "rXKKUQ2WaFrR",
        "colab_type": "text"
      },
      "source": [
        "Now that I have a dictionary that assigns each application name to its maximum number of reviews, I can use this to clean my google_play_data set of duplicate entries. I will start by initializing a new list named google_play_clean, and an already_added list to keep myself from appending duplicate rows. So, with each iteration over the google_play_data set, if the number of reviews is equal to the maximum number of reviews for that application name *and* I have not already added this application to the cleaned dataset, then I will append the entire row to google_play_clean. Then I'll use my explore_data function to ensure that the process worked as expected."
      ]
    },
    {
      "cell_type": "code",
      "metadata": {
        "id": "qdbAPVMXaFrS",
        "colab_type": "code",
        "colab": {},
        "outputId": "e32b5fcb-f4a7-422a-e9f2-a4cc080231ce"
      },
      "source": [
        "google_play_clean = []\n",
        "already_added = []\n",
        "for row in google_play_data[1:]:\n",
        "    name = row[0]\n",
        "    n_reviews = float(row[3])\n",
        "    if n_reviews == reviews_max[name] and name not in already_added:\n",
        "        google_play_clean.append(row)\n",
        "        already_added.append(name)\n",
        "explore_data(google_play_clean, 0, 3, True)"
      ],
      "execution_count": null,
      "outputs": [
        {
          "output_type": "stream",
          "text": [
            "['Photo Editor & Candy Camera & Grid & ScrapBook', 'ART_AND_DESIGN', '4.1', '159', '19M', '10,000+', 'Free', '0', 'Everyone', 'Art & Design', 'January 7, 2018', '1.0.0', '4.0.3 and up']\n",
            "\n",
            "\n",
            "['U Launcher Lite – FREE Live Cool Themes, Hide Apps', 'ART_AND_DESIGN', '4.7', '87510', '8.7M', '5,000,000+', 'Free', '0', 'Everyone', 'Art & Design', 'August 1, 2018', '1.2.4', '4.0.3 and up']\n",
            "\n",
            "\n",
            "['Sketch - Draw & Paint', 'ART_AND_DESIGN', '4.5', '215644', '25M', '50,000,000+', 'Free', '0', 'Teen', 'Art & Design', 'June 8, 2018', 'Varies with device', '4.2 and up']\n",
            "\n",
            "\n",
            "Number of rows: 9659\n",
            "Number of columns: 13\n"
          ],
          "name": "stdout"
        }
      ]
    },
    {
      "cell_type": "markdown",
      "metadata": {
        "id": "WDHwjvG8aFrl",
        "colab_type": "text"
      },
      "source": [
        "So, I've removed the duplicate app entries in the Google Play data set. Thankfully, I don't need to do the same for the App Store data because there are no duplicates. If you don't trust me, you can check out the data set yourself which I linked above. However, there is still more to be done in the data cleaning process! Next, I will remove data from apps that are non-english, as this would be irrelevant to the product Harvestly is building soon. I will show an example of these apps below:"
      ]
    },
    {
      "cell_type": "code",
      "metadata": {
        "id": "Soq_NXo5aFrn",
        "colab_type": "code",
        "colab": {},
        "outputId": "5a6ded5a-e46f-4d5a-a24d-72e9f8cad44b"
      },
      "source": [
        "print(google_play_clean[7940][0])"
      ],
      "execution_count": null,
      "outputs": [
        {
          "output_type": "stream",
          "text": [
            "لعبة تقدر تربح DZ\n"
          ],
          "name": "stdout"
        }
      ]
    },
    {
      "cell_type": "markdown",
      "metadata": {
        "id": "UKzLrTfXaFrx",
        "colab_type": "text"
      },
      "source": [
        "In order to remove apps with non-English names, I will iterate through the data sets seeking out characters with ASCII values greater than 127, which will indicate that an application has non-english characters. This isn't a perfect system as there may be English applications with a character or two that have ASCII values greater than 127. So to get around this edge case, I will create a function that returns false only if the passed string has three or more characters that have ASCII values greater than 127."
      ]
    },
    {
      "cell_type": "code",
      "metadata": {
        "id": "VRteBLr7aFr1",
        "colab_type": "code",
        "colab": {}
      },
      "source": [
        "def isEnglish(str):\n",
        "    count = 0\n",
        "    for char in str:\n",
        "        if (ord(char) > 127):\n",
        "            count += 1\n",
        "            if (count >= 3): \n",
        "                return False\n",
        "    return True"
      ],
      "execution_count": null,
      "outputs": []
    },
    {
      "cell_type": "markdown",
      "metadata": {
        "id": "XE0uvpW0aFsA",
        "colab_type": "text"
      },
      "source": [
        "Now that I have this function, I'll use it to iterate through the App Store and Google Play data sets and extract the English apps. I'll start by initializing two new empty lists (iOS and android) and append an app if it has an English title. Afterwards, I'll quickly use the explore_data function to ensure that my new lists iOS and android have been populated as expected."
      ]
    },
    {
      "cell_type": "code",
      "metadata": {
        "id": "hBLaaUQpaFsC",
        "colab_type": "code",
        "colab": {},
        "outputId": "5a24ab83-dbe5-4bc7-b2ff-ed08caa48b2c"
      },
      "source": [
        "iOS = []\n",
        "android = []\n",
        "for row in app_store_data[1:]:\n",
        "    name = row[2]\n",
        "    if (isEnglish(name)):\n",
        "        iOS.append(row)\n",
        "\n",
        "for row in google_play_clean:\n",
        "    name = row[0]\n",
        "    if (isEnglish(name)):\n",
        "        android.append(row)\n",
        "        \n",
        "explore_data(iOS, 0, 3, True)\n",
        "explore_data(android, 0 , 3, True)"
      ],
      "execution_count": null,
      "outputs": [
        {
          "output_type": "stream",
          "text": [
            "['1', '281656475', 'PAC-MAN Premium', '100788224', 'USD', '3.99', '21292', '26', '4', '4.5', '6.3.5', '4+', 'Games', '38', '5', '10', '1']\n",
            "\n",
            "\n",
            "['2', '281796108', 'Evernote - stay organized', '158578688', 'USD', '0', '161065', '26', '4', '3.5', '8.2.2', '4+', 'Productivity', '37', '5', '23', '1']\n",
            "\n",
            "\n",
            "['3', '281940292', 'WeatherBug - Local Weather, Radar, Maps, Alerts', '100524032', 'USD', '0', '188583', '2822', '3.5', '4.5', '5.0.0', '4+', 'Weather', '37', '5', '3', '1']\n",
            "\n",
            "\n",
            "Number of rows: 6155\n",
            "Number of columns: 17\n",
            "['Photo Editor & Candy Camera & Grid & ScrapBook', 'ART_AND_DESIGN', '4.1', '159', '19M', '10,000+', 'Free', '0', 'Everyone', 'Art & Design', 'January 7, 2018', '1.0.0', '4.0.3 and up']\n",
            "\n",
            "\n",
            "['U Launcher Lite – FREE Live Cool Themes, Hide Apps', 'ART_AND_DESIGN', '4.7', '87510', '8.7M', '5,000,000+', 'Free', '0', 'Everyone', 'Art & Design', 'August 1, 2018', '1.2.4', '4.0.3 and up']\n",
            "\n",
            "\n",
            "['Sketch - Draw & Paint', 'ART_AND_DESIGN', '4.5', '215644', '25M', '50,000,000+', 'Free', '0', 'Teen', 'Art & Design', 'June 8, 2018', 'Varies with device', '4.2 and up']\n",
            "\n",
            "\n",
            "Number of rows: 9597\n",
            "Number of columns: 13\n"
          ],
          "name": "stdout"
        }
      ]
    },
    {
      "cell_type": "markdown",
      "metadata": {
        "id": "-ieWNKOZaFsT",
        "colab_type": "text"
      },
      "source": [
        "Great! Next, I want to delete data that pertains to all applications that are not free to download. The reason for this is because the Harvestly mobile application will be completely free. The main source of revenue will not be from individuals purchasing the app or from in-app advertisements, but from enabling more people to use Harvestly's products and services through their mobile phone. In order to accomplish this, I will once again loop through both the iOS data and the android data and append all free apps to two new lists."
      ]
    },
    {
      "cell_type": "code",
      "metadata": {
        "id": "ZrlO1DTsaFsV",
        "colab_type": "code",
        "colab": {},
        "outputId": "14b95055-802e-462c-cc5a-0e24227381f3"
      },
      "source": [
        "iOS_free = []\n",
        "android_free = []\n",
        "\n",
        "for row in iOS:\n",
        "    price = float(row[5])\n",
        "    if price == 0.0:\n",
        "        iOS_free.append(row)\n",
        "\n",
        "for row in android:\n",
        "    category = row[6]\n",
        "    if category.lower() == 'free':\n",
        "        android_free.append(row)\n",
        "        \n",
        "explore_data(iOS_free, 0, 3, True)\n",
        "explore_data(android_free, 0, 3, True)"
      ],
      "execution_count": null,
      "outputs": [
        {
          "output_type": "stream",
          "text": [
            "['2', '281796108', 'Evernote - stay organized', '158578688', 'USD', '0', '161065', '26', '4', '3.5', '8.2.2', '4+', 'Productivity', '37', '5', '23', '1']\n",
            "\n",
            "\n",
            "['3', '281940292', 'WeatherBug - Local Weather, Radar, Maps, Alerts', '100524032', 'USD', '0', '188583', '2822', '3.5', '4.5', '5.0.0', '4+', 'Weather', '37', '5', '3', '1']\n",
            "\n",
            "\n",
            "['4', '282614216', 'eBay: Best App to Buy, Sell, Save! Online Shopping', '128512000', 'USD', '0', '262241', '649', '4', '4.5', '5.10.0', '12+', 'Shopping', '37', '5', '9', '1']\n",
            "\n",
            "\n",
            "Number of rows: 3203\n",
            "Number of columns: 17\n",
            "['Photo Editor & Candy Camera & Grid & ScrapBook', 'ART_AND_DESIGN', '4.1', '159', '19M', '10,000+', 'Free', '0', 'Everyone', 'Art & Design', 'January 7, 2018', '1.0.0', '4.0.3 and up']\n",
            "\n",
            "\n",
            "['U Launcher Lite – FREE Live Cool Themes, Hide Apps', 'ART_AND_DESIGN', '4.7', '87510', '8.7M', '5,000,000+', 'Free', '0', 'Everyone', 'Art & Design', 'August 1, 2018', '1.2.4', '4.0.3 and up']\n",
            "\n",
            "\n",
            "['Sketch - Draw & Paint', 'ART_AND_DESIGN', '4.5', '215644', '25M', '50,000,000+', 'Free', '0', 'Teen', 'Art & Design', 'June 8, 2018', 'Varies with device', '4.2 and up']\n",
            "\n",
            "\n",
            "Number of rows: 8847\n",
            "Number of columns: 13\n"
          ],
          "name": "stdout"
        }
      ]
    },
    {
      "cell_type": "markdown",
      "metadata": {
        "id": "Pd_S-kgtaFsl",
        "colab_type": "text"
      },
      "source": [
        "Great! Now I've got two lists, iOS_free and android_free, that both contain data from the App Store and from the Google Play store. Importantly, I can rest assured that this data is free from expensive apps, non-English apps, apps with inaccurate data, and apps with duplicate entries. This means that I'm just about ready to start analyzing the data. In order to create a relevant and compelling app profile for Harvestly to model, I'm first going to create some frequency tables and find out the most popular genres on the market."
      ]
    },
    {
      "cell_type": "code",
      "metadata": {
        "id": "29jDLKl3aFsl",
        "colab_type": "code",
        "colab": {},
        "outputId": "7845d909-88fa-459c-b6cb-a4b80cc8113f"
      },
      "source": [
        "def freq_table(dataset, index):\n",
        "    dictionary = {}\n",
        "    for row in dataset:\n",
        "        data = row[index]\n",
        "        if data in dictionary:\n",
        "            dictionary[data] += 1\n",
        "        else:\n",
        "            dictionary[data] = 1\n",
        "    # return values as percentages\n",
        "    total_number_of_apps = len(dataset)\n",
        "    for i in dictionary:\n",
        "        dictionary[i] /= total_number_of_apps\n",
        "        dictionary[i] *= 100\n",
        "    return dictionary\n",
        "\n",
        "## sort percentages in descending order and display frequency table\n",
        "def display_table(dataset, index):\n",
        "    table = freq_table(dataset, index)\n",
        "    table_display = []\n",
        "    for key in table:\n",
        "        key_val_as_tuple = (table[key], key)\n",
        "        table_display.append(key_val_as_tuple)\n",
        "        \n",
        "    table_sorted = sorted(table_display, reverse = True)\n",
        "    for entry in table_sorted:\n",
        "        print(entry[1], ':', round(entry[0], 3))\n",
        "        \n",
        "display_table(iOS_free, 12)\n",
        "print('\\n')\n",
        "display_table(android_free, 1)\n",
        "print('\\n')\n",
        "display_table(android_free, 9)\n",
        "print('\\n')"
      ],
      "execution_count": null,
      "outputs": [
        {
          "output_type": "stream",
          "text": [
            "Games : 58.258\n",
            "Entertainment : 7.836\n",
            "Photo & Video : 4.995\n",
            "Education : 3.684\n",
            "Social Networking : 3.309\n",
            "Shopping : 2.591\n",
            "Utilities : 2.466\n",
            "Sports : 2.154\n",
            "Music : 2.061\n",
            "Health & Fitness : 2.029\n",
            "Productivity : 1.748\n",
            "Lifestyle : 1.561\n",
            "News : 1.342\n",
            "Travel : 1.249\n",
            "Finance : 1.093\n",
            "Weather : 0.874\n",
            "Food & Drink : 0.812\n",
            "Reference : 0.531\n",
            "Business : 0.531\n",
            "Book : 0.375\n",
            "Navigation : 0.187\n",
            "Medical : 0.187\n",
            "Catalogs : 0.125\n",
            "\n",
            "\n",
            "FAMILY : 18.933\n",
            "GAME : 9.698\n",
            "TOOLS : 8.455\n",
            "BUSINESS : 4.6\n",
            "PRODUCTIVITY : 3.9\n",
            "LIFESTYLE : 3.888\n",
            "FINANCE : 3.707\n",
            "MEDICAL : 3.538\n",
            "SPORTS : 3.391\n",
            "PERSONALIZATION : 3.323\n",
            "COMMUNICATION : 3.233\n",
            "HEALTH_AND_FITNESS : 3.086\n",
            "PHOTOGRAPHY : 2.95\n",
            "NEWS_AND_MAGAZINES : 2.803\n",
            "SOCIAL : 2.668\n",
            "TRAVEL_AND_LOCAL : 2.34\n",
            "SHOPPING : 2.249\n",
            "BOOKS_AND_REFERENCE : 2.136\n",
            "DATING : 1.865\n",
            "VIDEO_PLAYERS : 1.797\n",
            "MAPS_AND_NAVIGATION : 1.39\n",
            "FOOD_AND_DRINK : 1.243\n",
            "EDUCATION : 1.164\n",
            "ENTERTAINMENT : 0.961\n",
            "LIBRARIES_AND_DEMO : 0.938\n",
            "AUTO_AND_VEHICLES : 0.927\n",
            "HOUSE_AND_HOME : 0.803\n",
            "WEATHER : 0.791\n",
            "EVENTS : 0.712\n",
            "PARENTING : 0.656\n",
            "ART_AND_DESIGN : 0.644\n",
            "COMICS : 0.61\n",
            "BEAUTY : 0.599\n",
            "\n",
            "\n",
            "Tools : 8.444\n",
            "Entertainment : 6.081\n",
            "Education : 5.358\n",
            "Business : 4.6\n",
            "Productivity : 3.9\n",
            "Lifestyle : 3.877\n",
            "Finance : 3.707\n",
            "Medical : 3.538\n",
            "Sports : 3.459\n",
            "Personalization : 3.323\n",
            "Communication : 3.233\n",
            "Action : 3.097\n",
            "Health & Fitness : 3.086\n",
            "Photography : 2.95\n",
            "News & Magazines : 2.803\n",
            "Social : 2.668\n",
            "Travel & Local : 2.328\n",
            "Shopping : 2.249\n",
            "Books & Reference : 2.136\n",
            "Simulation : 2.046\n",
            "Dating : 1.865\n",
            "Arcade : 1.842\n",
            "Video Players & Editors : 1.775\n",
            "Casual : 1.763\n",
            "Maps & Navigation : 1.39\n",
            "Food & Drink : 1.243\n",
            "Puzzle : 1.13\n",
            "Racing : 0.995\n",
            "Role Playing : 0.938\n",
            "Libraries & Demo : 0.938\n",
            "Auto & Vehicles : 0.927\n",
            "Strategy : 0.904\n",
            "House & Home : 0.803\n",
            "Weather : 0.791\n",
            "Events : 0.712\n",
            "Adventure : 0.667\n",
            "Comics : 0.599\n",
            "Beauty : 0.599\n",
            "Art & Design : 0.599\n",
            "Parenting : 0.497\n",
            "Card : 0.452\n",
            "Trivia : 0.418\n",
            "Casino : 0.418\n",
            "Educational;Education : 0.396\n",
            "Board : 0.384\n",
            "Educational : 0.373\n",
            "Education;Education : 0.339\n",
            "Word : 0.26\n",
            "Casual;Pretend Play : 0.237\n",
            "Music : 0.203\n",
            "Racing;Action & Adventure : 0.17\n",
            "Puzzle;Brain Games : 0.17\n",
            "Entertainment;Music & Video : 0.17\n",
            "Casual;Brain Games : 0.136\n",
            "Casual;Action & Adventure : 0.136\n",
            "Arcade;Action & Adventure : 0.124\n",
            "Action;Action & Adventure : 0.102\n",
            "Educational;Pretend Play : 0.09\n",
            "Simulation;Action & Adventure : 0.079\n",
            "Parenting;Education : 0.079\n",
            "Entertainment;Brain Games : 0.079\n",
            "Board;Brain Games : 0.079\n",
            "Parenting;Music & Video : 0.068\n",
            "Educational;Brain Games : 0.068\n",
            "Casual;Creativity : 0.068\n",
            "Art & Design;Creativity : 0.068\n",
            "Education;Pretend Play : 0.057\n",
            "Role Playing;Pretend Play : 0.045\n",
            "Education;Creativity : 0.045\n",
            "Role Playing;Action & Adventure : 0.034\n",
            "Puzzle;Action & Adventure : 0.034\n",
            "Entertainment;Creativity : 0.034\n",
            "Entertainment;Action & Adventure : 0.034\n",
            "Educational;Creativity : 0.034\n",
            "Educational;Action & Adventure : 0.034\n",
            "Education;Music & Video : 0.034\n",
            "Education;Brain Games : 0.034\n",
            "Education;Action & Adventure : 0.034\n",
            "Adventure;Action & Adventure : 0.034\n",
            "Video Players & Editors;Music & Video : 0.023\n",
            "Sports;Action & Adventure : 0.023\n",
            "Simulation;Pretend Play : 0.023\n",
            "Puzzle;Creativity : 0.023\n",
            "Music;Music & Video : 0.023\n",
            "Entertainment;Pretend Play : 0.023\n",
            "Casual;Education : 0.023\n",
            "Board;Action & Adventure : 0.023\n",
            "Video Players & Editors;Creativity : 0.011\n",
            "Trivia;Education : 0.011\n",
            "Travel & Local;Action & Adventure : 0.011\n",
            "Tools;Education : 0.011\n",
            "Strategy;Education : 0.011\n",
            "Strategy;Creativity : 0.011\n",
            "Strategy;Action & Adventure : 0.011\n",
            "Simulation;Education : 0.011\n",
            "Role Playing;Brain Games : 0.011\n",
            "Racing;Pretend Play : 0.011\n",
            "Puzzle;Education : 0.011\n",
            "Parenting;Brain Games : 0.011\n",
            "Music & Audio;Music & Video : 0.011\n",
            "Lifestyle;Pretend Play : 0.011\n",
            "Lifestyle;Education : 0.011\n",
            "Health & Fitness;Education : 0.011\n",
            "Health & Fitness;Action & Adventure : 0.011\n",
            "Entertainment;Education : 0.011\n",
            "Communication;Creativity : 0.011\n",
            "Comics;Creativity : 0.011\n",
            "Casual;Music & Video : 0.011\n",
            "Card;Action & Adventure : 0.011\n",
            "Books & Reference;Education : 0.011\n",
            "Art & Design;Pretend Play : 0.011\n",
            "Art & Design;Action & Adventure : 0.011\n",
            "Arcade;Pretend Play : 0.011\n",
            "Adventure;Education : 0.011\n",
            "\n",
            "\n"
          ],
          "name": "stdout"
        }
      ]
    },
    {
      "cell_type": "markdown",
      "metadata": {
        "id": "Au8NZ29paFsv",
        "colab_type": "text"
      },
      "source": [
        "By analyzing the frequency tables above, we can see which apps are most popular in each app store. For example, it becomes immediately clear that most of the apps on the App Store are designed for entertainment and fun, whereas apps on Google Play have a broader distribution between entertainment and practicality. However, these frequency tables do not provide enough for determining how to develop Harvestly's mobile application. It is important to note that just because there is a larger number of apps in a specific genre, that does not directly correlate to popularity, success, or profitability. So, to determine which apps are the most popular, I will calculate the average number of installs for each genre. I can do this easily in the Google Play data set, which has a column designated to installations, but will have to find a workaround for the App Store. To analyze the App Store data set, I will instead use the total number of user ratings column. I'll calculate the average number of user ratings in the App Store in the next code block by (1) isolating the apps of each genre, (2) summing up the user ratings for the apps of that genre, and (3) dividing the sum by the number of apps in that genre."
      ]
    },
    {
      "cell_type": "code",
      "metadata": {
        "id": "qS-nbC1zaFsv",
        "colab_type": "code",
        "colab": {},
        "outputId": "ccd3085f-7df6-4513-b46a-846ed9a619af"
      },
      "source": [
        "genre_frequency_table = freq_table(iOS_free, 12)\n",
        "for genre in genre_frequency_table:\n",
        "    total = 0\n",
        "    len_genre = 0\n",
        "    for row in iOS_free:\n",
        "        genre_app = row[12]\n",
        "        if genre_app == genre:\n",
        "            total += float(row[6])\n",
        "            len_genre += 1\n",
        "    avg_num_user_ratings = total/len_genre\n",
        "    print(genre, round(avg_num_user_ratings, 3))"
      ],
      "execution_count": null,
      "outputs": [
        {
          "output_type": "stream",
          "text": [
            "Productivity 21028.411\n",
            "Weather 52279.893\n",
            "Shopping 27230.735\n",
            "Reference 79350.471\n",
            "Finance 32367.029\n",
            "Music 57326.53\n",
            "Utilities 19156.494\n",
            "Travel 28243.8\n",
            "Social Networking 71548.349\n",
            "Sports 23008.899\n",
            "Health & Fitness 23298.015\n",
            "Games 22886.367\n",
            "Food & Drink 33333.923\n",
            "News 21248.023\n",
            "Book 46384.917\n",
            "Photo & Video 28441.544\n",
            "Entertainment 14195.359\n",
            "Business 7491.118\n",
            "Lifestyle 16815.48\n",
            "Education 7003.983\n",
            "Navigation 86090.333\n",
            "Medical 612.0\n",
            "Catalogs 4004.0\n"
          ],
          "name": "stdout"
        }
      ]
    },
    {
      "cell_type": "markdown",
      "metadata": {
        "id": "CjJb_nY1aFs7",
        "colab_type": "text"
      },
      "source": [
        "Great, now that that's done, I can do the same for the Google Play data set."
      ]
    },
    {
      "cell_type": "code",
      "metadata": {
        "id": "5LoiKDxyaFs-",
        "colab_type": "code",
        "colab": {},
        "outputId": "acdc2f18-c8f2-479a-f95e-12c1886e864b"
      },
      "source": [
        "category_frequency_table = freq_table(android_free, 1)\n",
        "for genre in category_frequency_table:\n",
        "    total = 0\n",
        "    len_category = 0\n",
        "    for row in android_free:\n",
        "        category_app = row[1]\n",
        "        if category_app == genre:\n",
        "            installs = row[5]\n",
        "            installs = installs.replace('+','')\n",
        "            installs = installs.replace(',','')\n",
        "            total += float(installs)\n",
        "            len_category += 1\n",
        "    avg_num_of_installs = total/len_category\n",
        "    print(genre, round(avg_num_of_installs, 3))"
      ],
      "execution_count": null,
      "outputs": [
        {
          "output_type": "stream",
          "text": [
            "ART_AND_DESIGN 1986335.088\n",
            "AUTO_AND_VEHICLES 647317.817\n",
            "BEAUTY 513151.887\n",
            "BOOKS_AND_REFERENCE 8814199.788\n",
            "BUSINESS 1712290.147\n",
            "COMICS 832613.889\n",
            "COMMUNICATION 38590581.087\n",
            "DATING 854028.83\n",
            "EDUCATION 1833495.146\n",
            "ENTERTAINMENT 11640705.882\n",
            "EVENTS 253542.222\n",
            "FINANCE 1387692.476\n",
            "FOOD_AND_DRINK 1924897.736\n",
            "HEALTH_AND_FITNESS 4188821.985\n",
            "HOUSE_AND_HOME 1360598.042\n",
            "LIBRARIES_AND_DEMO 638503.735\n",
            "LIFESTYLE 1446158.224\n",
            "GAME 15544014.51\n",
            "FAMILY 3697848.173\n",
            "MEDICAL 120550.62\n",
            "SOCIAL 23253652.127\n",
            "SHOPPING 7036877.312\n",
            "PHOTOGRAPHY 17840110.402\n",
            "SPORTS 3650602.277\n",
            "TRAVEL_AND_LOCAL 13984077.71\n",
            "TOOLS 10830251.971\n",
            "PERSONALIZATION 5201482.612\n",
            "PRODUCTIVITY 16787331.345\n",
            "PARENTING 542603.621\n",
            "WEATHER 5145550.286\n",
            "VIDEO_PLAYERS 24727872.453\n",
            "NEWS_AND_MAGAZINES 9549178.468\n",
            "MAPS_AND_NAVIGATION 4049274.634\n"
          ],
          "name": "stdout"
        }
      ]
    },
    {
      "cell_type": "markdown",
      "metadata": {
        "id": "icMv8rciaFtN",
        "colab_type": "text"
      },
      "source": [
        "It seems from the data above that the 'Shopping' category is much more popular in the Google Play store than in the App Store. This shouldn't surprise us, as it was clear that the Google Play store had a larger focus on practicality than the App Store did. This shows that our developer team at Harvestly will be better off creating a native android application before working on the iOS version, as the android platform is more likely to be more successful for Harvestly's needs."
      ]
    }
  ]
}